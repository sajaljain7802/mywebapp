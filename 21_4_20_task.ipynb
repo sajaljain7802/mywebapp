{
  "nbformat": 4,
  "nbformat_minor": 0,
  "metadata": {
    "colab": {
      "name": "21/4/20 task.ipynb",
      "provenance": []
    },
    "kernelspec": {
      "name": "python3",
      "display_name": "Python 3"
    }
  },
  "cells": [
    {
      "cell_type": "code",
      "metadata": {
        "id": "uKiz65K0tMdR",
        "colab_type": "code",
        "colab": {
          "base_uri": "https://localhost:8080/",
          "height": 55
        },
        "outputId": "7e871962-0a0b-410b-97cf-5f57304d5b75"
      },
      "source": [
        "import urllib.request\n",
        "import json\n",
        "\n",
        "data = {\n",
        "        \"Inputs\": {\n",
        "                \"input1\":\n",
        "                [\n",
        "                    {\n",
        "                            'symboling': \"3\",   \n",
        "                            'normalized-losses': \"1\",   \n",
        "                            'make': \"alfa-romero\",   \n",
        "                            'fuel-type': \"gas\",   \n",
        "                            'aspiration': \"std\",   \n",
        "                            'num-of-doors': \"two\",   \n",
        "                            'body-style': \"convertible\",   \n",
        "                            'drive-wheels': \"rwd\",   \n",
        "                            'engine-location': \"front\",   \n",
        "                            'wheel-base': \"88.6\",   \n",
        "                            'length': \"168.8\",   \n",
        "                            'width': \"64.1\",   \n",
        "                            'height': \"48.8\",   \n",
        "                            'curb-weight': \"2548\",   \n",
        "                            'engine-type': \"dohc\",   \n",
        "                            'num-of-cylinders': \"four\",   \n",
        "                            'engine-size': \"130\",   \n",
        "                            'fuel-system': \"mpfi\",   \n",
        "                            'bore': \"3.47\",   \n",
        "                            'stroke': \"2.68\",   \n",
        "                            'compression-ratio': \"9\",   \n",
        "                            'horsepower': \"111\",   \n",
        "                            'peak-rpm': \"5000\",   \n",
        "                            'city-mpg': \"21\",   \n",
        "                            'highway-mpg': \"27\",   \n",
        "                            'price': \"13495\",   \n",
        "                    }\n",
        "                ],\n",
        "        },\n",
        "    \"GlobalParameters\":  {\n",
        "    }\n",
        "}\n",
        "\n",
        "body = str.encode(json.dumps(data))\n",
        "\n",
        "url = 'https://ussouthcentral.services.azureml.net/workspaces/180271ab4608462692fcf1f3b117d845/services/9a3ef522e24b41f0a79bded7f1a44739/execute?api-version=2.0&format=swagger'\n",
        "api_key = 'oqLbTZbZPLhgn4Rff1SoJPAmIQ5+H26B8kucIGw/d9AOSb+OnkN6eEWmtNM46NubooknmI3aio1Do3i81pK1Nw==' # Replace this with the API key for the web service\n",
        "headers = {'Content-Type':'application/json', 'Authorization':('Bearer '+ api_key)}\n",
        "\n",
        "req = urllib.request.Request(url, body, headers)\n",
        "\n",
        "try:\n",
        "    response = urllib.request.urlopen(req)\n",
        "\n",
        "    result = response.read()\n",
        "    print(result)\n",
        "except urllib.error.HTTPError as error:\n",
        "    print(\"The request failed with status code: \" + str(error.code))\n",
        "\n",
        "    # Print the headers - they include the requert ID and the timestamp, which are useful for debugging the failure\n",
        "    print(error.info())\n",
        "    print(json.loads(error.read().decode(\"utf8\", 'ignore')))"
      ],
      "execution_count": 2,
      "outputs": [
        {
          "output_type": "stream",
          "text": [
            "b'{\"Results\":{\"output1\":[{\"symboling\":\"3\",\"make\":\"alfa-romero\",\"fuel-type\":\"gas\",\"aspiration\":\"std\",\"num-of-doors\":\"two\",\"body-style\":\"convertible\",\"drive-wheels\":\"rwd\",\"engine-location\":\"front\",\"wheel-base\":\"88.6\",\"length\":\"168.8\",\"width\":\"64.1\",\"height\":\"48.8\",\"curb-weight\":\"2548\",\"engine-type\":\"dohc\",\"num-of-cylinders\":\"four\",\"engine-size\":\"130\",\"fuel-system\":\"mpfi\",\"bore\":\"3.47\",\"stroke\":\"2.68\",\"compression-ratio\":\"9\",\"horsepower\":\"111\",\"peak-rpm\":\"5000\",\"city-mpg\":\"21\",\"highway-mpg\":\"27\",\"price\":\"13495\",\"Scored Labels\":\"13496.1792469979\"}]}}'\n"
          ],
          "name": "stdout"
        }
      ]
    },
    {
      "cell_type": "code",
      "metadata": {
        "id": "Gsf2Wb32tRRe",
        "colab_type": "code",
        "colab": {}
      },
      "source": [
        ""
      ],
      "execution_count": 0,
      "outputs": []
    }
  ]
}